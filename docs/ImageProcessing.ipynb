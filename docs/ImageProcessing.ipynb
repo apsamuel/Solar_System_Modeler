{
 "metadata": {
  "language_info": {
   "codemirror_mode": {
    "name": "ipython",
    "version": 3
   },
   "file_extension": ".py",
   "mimetype": "text/x-python",
   "name": "python",
   "nbconvert_exporter": "python",
   "pygments_lexer": "ipython3",
   "version": "3.6.7-final"
  },
  "orig_nbformat": 2,
  "kernelspec": {
   "name": "python3",
   "display_name": "Python 3",
   "language": "python"
  }
 },
 "nbformat": 4,
 "nbformat_minor": 2,
 "cells": [
  {
   "cell_type": "code",
   "execution_count": 56,
   "metadata": {},
   "outputs": [],
   "source": [
    "import os, sys \n",
    "from PIL import Image, ImageFilter, ImageEnhance, ImageOps \n",
    "import numpy as np\n",
    "from scipy import signal, misc\n",
    "import matplotlib.pyplot as plt\n",
    "os.chdir('/Users/photon/Downloads')"
   ]
  },
  {
   "cell_type": "code",
   "execution_count": null,
   "metadata": {},
   "outputs": [],
   "source": [
    "# load image\n",
    "earth = Image.open('8k_earth_daymap.jpg')"
   ]
  },
  {
   "cell_type": "code",
   "execution_count": null,
   "metadata": {},
   "outputs": [],
   "source": [
    "\n",
    "\n",
    "# convert to grayscale\n",
    "earth_gray = earth.convert('L')\n",
    "earth_gray.show()"
   ]
  },
  {
   "cell_type": "code",
   "execution_count": 59,
   "metadata": {},
   "outputs": [],
   "source": [
    "\n",
    "# invert and emboss\n",
    "earth_embossed = ImageOps.invert(earth.filter(ImageFilter.EMBOSS))\n",
    "earth_embossed.show()\n",
    "#earth_embossed.save('/Users/photon/Downloads/reembossedearth.jpg')\n",
    "\n"
   ]
  },
  {
   "cell_type": "code",
   "execution_count": null,
   "metadata": {},
   "outputs": [],
   "source": [
    "# invert grayscale \n",
    "\n",
    "earth_gray_inv = ImageOps.invert(earth_gray)\n",
    "earth_gray_inv.show()"
   ]
  },
  {
   "cell_type": "code",
   "execution_count": 54,
   "metadata": {},
   "outputs": [],
   "source": [
    "# image depth\n",
    "earth_depth = ImageOps.colorize(earth_gray_inv, black='black', white='black', blackpoint=0, whitepoint=255, midpoint=(255/5) )\n",
    "earth_depth\n",
    "earth_gray_inv.filter(ImageFilter.GaussianBlur).show()"
   ]
  },
  {
   "cell_type": "code",
   "execution_count": 30,
   "metadata": {},
   "outputs": [],
   "source": [
    "# convert color image to gray scale\n",
    "\n",
    "\n"
   ]
  },
  {
   "cell_type": "code",
   "execution_count": null,
   "metadata": {},
   "outputs": [],
   "source": []
  }
 ]
}